{
 "cells": [
  {
   "cell_type": "code",
   "execution_count": 1,
   "id": "0960d215-d6f6-410c-844e-2b99827cb097",
   "metadata": {},
   "outputs": [
    {
     "name": "stderr",
     "output_type": "stream",
     "text": [
      "/var/folders/pn/0bn7dksx05d8k5q8rpx3vxm80000gn/T/ipykernel_26170/1993625587.py:3: DtypeWarning: Columns (12,14,15,16) have mixed types. Specify dtype option on import or set low_memory=False.\n",
      "  df = pd.read_csv('merged-dataset.csv', parse_dates=['start_date', 'end_date', 'inv_item_date'])\n",
      "/var/folders/pn/0bn7dksx05d8k5q8rpx3vxm80000gn/T/ipykernel_26170/1993625587.py:3: UserWarning: Parsing dates in %d.%m.%Y format when dayfirst=False (the default) was specified. Pass `dayfirst=True` or specify a format to silence this warning.\n",
      "  df = pd.read_csv('merged-dataset.csv', parse_dates=['start_date', 'end_date', 'inv_item_date'])\n",
      "/var/folders/pn/0bn7dksx05d8k5q8rpx3vxm80000gn/T/ipykernel_26170/1993625587.py:3: UserWarning: Parsing dates in %d.%m.%Y format when dayfirst=False (the default) was specified. Pass `dayfirst=True` or specify a format to silence this warning.\n",
      "  df = pd.read_csv('merged-dataset.csv', parse_dates=['start_date', 'end_date', 'inv_item_date'])\n"
     ]
    }
   ],
   "source": [
    "import pandas as pd\n",
    "\n",
    "df = pd.read_csv('merged-dataset.csv', parse_dates=['start_date', 'end_date', 'inv_item_date'])"
   ]
  },
  {
   "cell_type": "code",
   "execution_count": 2,
   "id": "efedf3cb-1d49-4f0a-a352-520811b6fc99",
   "metadata": {},
   "outputs": [],
   "source": [
    "df = df.drop(columns=['Unnamed: 0'])"
   ]
  },
  {
   "cell_type": "code",
   "execution_count": 3,
   "id": "b294f0e2-1769-47b5-8dbf-3bd910e6406b",
   "metadata": {},
   "outputs": [
    {
     "name": "stdout",
     "output_type": "stream",
     "text": [
      "<class 'pandas.core.frame.DataFrame'>\n",
      "RangeIndex: 228636 entries, 0 to 228635\n",
      "Data columns (total 40 columns):\n",
      " #   Column               Non-Null Count   Dtype         \n",
      "---  ------               --------------   -----         \n",
      " 0   season               228636 non-null  int64         \n",
      " 1   field                228636 non-null  object        \n",
      " 2   work_type            228636 non-null  object        \n",
      " 3   work_subtype         228636 non-null  object        \n",
      " 4   start_date           228636 non-null  datetime64[ns]\n",
      " 5   end_date             217100 non-null  datetime64[ns]\n",
      " 6   completed_work_area  228636 non-null  object        \n",
      " 7   main_tech            228636 non-null  object        \n",
      " 8   add_tech             150610 non-null  object        \n",
      " 9   mech                 228636 non-null  object        \n",
      " 10  proc_depth           42139 non-null   object        \n",
      " 11  prod_purpose         33861 non-null   object        \n",
      " 12  prod_weight          228636 non-null  object        \n",
      " 13  prod_dry_perc        12968 non-null   object        \n",
      " 14  prod_humid           23555 non-null   object        \n",
      " 15  prod_impur           23555 non-null   object        \n",
      " 16  yield_fact           228636 non-null  object        \n",
      " 17  work_id              228636 non-null  object        \n",
      " 18  region               219497 non-null  object        \n",
      " 19  land_type            219497 non-null  object        \n",
      " 20  fertility_score      211640 non-null  float64       \n",
      " 21  crop                 219497 non-null  object        \n",
      " 22  crop_predecessor     218232 non-null  object        \n",
      " 23  crop_yearold         30788 non-null   float64       \n",
      " 24  field_area           219497 non-null  object        \n",
      " 25  hybrid               180534 non-null  object        \n",
      " 26  reproduction         169522 non-null  object        \n",
      " 27  seed_origin          173013 non-null  object        \n",
      " 28  technology           173347 non-null  object        \n",
      " 29  yield_plan           207201 non-null  object        \n",
      " 30  p2o5                 219497 non-null  object        \n",
      " 31  k2o                  219497 non-null  object        \n",
      " 32  humus                219497 non-null  object        \n",
      " 33  ph                   219497 non-null  object        \n",
      " 34  inv_item_type        115359 non-null  object        \n",
      " 35  inv_item_name        115359 non-null  object        \n",
      " 36  inv_item_weight      115359 non-null  object        \n",
      " 37  inv_item_unit        115350 non-null  object        \n",
      " 38  inv_item_dose        115359 non-null  object        \n",
      " 39  inv_item_date        115359 non-null  datetime64[ns]\n",
      "dtypes: datetime64[ns](3), float64(2), int64(1), object(34)\n",
      "memory usage: 69.8+ MB\n"
     ]
    }
   ],
   "source": [
    "df.info()"
   ]
  },
  {
   "cell_type": "code",
   "execution_count": 4,
   "id": "32318f9d-acfa-4578-8863-c6616fad9656",
   "metadata": {},
   "outputs": [],
   "source": [
    "columns_to_convert = [\n",
    "    'yield_fact', 'completed_work_area', \n",
    "    'field_area', 'yield_plan', 'p2o5', 'k2o', 'humus', 'ph', \n",
    "    'inv_item_weight', 'inv_item_dose', 'proc_depth', 'prod_purpose', \n",
    "    'prod_weight', 'prod_dry_perc', 'prod_humid', 'prod_impur'\n",
    "]\n",
    "\n",
    "for column in columns_to_convert:\n",
    "    if column in df.columns:\n",
    "        df[column] = df[column].str.replace(',', '.').apply(pd.to_numeric, errors='coerce')"
   ]
  },
  {
   "cell_type": "code",
   "execution_count": 5,
   "id": "5900b482-55ce-4978-b500-faffbf0db62c",
   "metadata": {},
   "outputs": [
    {
     "data": {
      "text/plain": [
       "yield_fact\n",
       "0.00       192230\n",
       "1.18          169\n",
       "1.27          167\n",
       "1.30          166\n",
       "1.06          165\n",
       "            ...  \n",
       "12.06           1\n",
       "1242.28         1\n",
       "19.77           1\n",
       "69.58           1\n",
       "752.68          1\n",
       "Name: count, Length: 2545, dtype: int64"
      ]
     },
     "execution_count": 5,
     "metadata": {},
     "output_type": "execute_result"
    }
   ],
   "source": [
    "df['yield_fact'].value_counts()"
   ]
  },
  {
   "cell_type": "code",
   "execution_count": 9,
   "id": "53ab63c6-8289-442d-bb87-45efc5d63ff3",
   "metadata": {},
   "outputs": [],
   "source": [
    "df = df[df['yield_fact'] > 0].reset_index()"
   ]
  },
  {
   "cell_type": "code",
   "execution_count": 10,
   "id": "842f864c-4b45-4a19-b67a-f404e8137d41",
   "metadata": {},
   "outputs": [
    {
     "data": {
      "text/plain": [
       "Index(['index', 'season', 'field', 'work_type', 'work_subtype', 'start_date',\n",
       "       'end_date', 'completed_work_area', 'main_tech', 'add_tech', 'mech',\n",
       "       'proc_depth', 'prod_purpose', 'prod_weight', 'prod_dry_perc',\n",
       "       'prod_humid', 'prod_impur', 'yield_fact', 'work_id', 'region',\n",
       "       'land_type', 'fertility_score', 'crop', 'crop_predecessor',\n",
       "       'crop_yearold', 'field_area', 'hybrid', 'reproduction', 'seed_origin',\n",
       "       'technology', 'yield_plan', 'p2o5', 'k2o', 'humus', 'ph',\n",
       "       'inv_item_type', 'inv_item_name', 'inv_item_weight', 'inv_item_unit',\n",
       "       'inv_item_dose', 'inv_item_date'],\n",
       "      dtype='object')"
      ]
     },
     "execution_count": 10,
     "metadata": {},
     "output_type": "execute_result"
    }
   ],
   "source": [
    "df.columns"
   ]
  },
  {
   "cell_type": "code",
   "execution_count": 13,
   "id": "bd73f779-7ed0-4a17-93a3-24201c4a7ed0",
   "metadata": {},
   "outputs": [
    {
     "name": "stdout",
     "output_type": "stream",
     "text": [
      "                Feature    Importance\n",
      "10          prod_weight  7.462133e-01\n",
      "4   completed_work_area  1.463800e-01\n",
      "3          work_subtype  1.979631e-02\n",
      "14              work_id  1.946928e-02\n",
      "21           field_area  1.224058e-02\n",
      "26           yield_plan  1.038273e-02\n",
      "18                 crop  8.023182e-03\n",
      "7                  mech  5.771647e-03\n",
      "1                 field  5.701408e-03\n",
      "27                 p2o5  5.540703e-03\n",
      "29                humus  4.635090e-03\n",
      "28                  k2o  2.937715e-03\n",
      "30                   ph  2.937525e-03\n",
      "12           prod_humid  2.545048e-03\n",
      "22               hybrid  1.354662e-03\n",
      "19     crop_predecessor  1.156115e-03\n",
      "5             main_tech  1.035174e-03\n",
      "11        prod_dry_perc  9.136157e-04\n",
      "6              add_tech  7.598409e-04\n",
      "17      fertility_score  6.169858e-04\n",
      "23         reproduction  5.394398e-04\n",
      "24          seed_origin  4.145509e-04\n",
      "13           prod_impur  3.096321e-04\n",
      "0                season  1.546870e-04\n",
      "15               region  9.898084e-05\n",
      "25           technology  4.240863e-05\n",
      "16            land_type  1.774411e-05\n",
      "20         crop_yearold  1.163039e-05\n",
      "2             work_type  4.880691e-11\n",
      "9          prod_purpose  0.000000e+00\n",
      "8            proc_depth  0.000000e+00\n",
      "31        inv_item_type  0.000000e+00\n",
      "32        inv_item_name  0.000000e+00\n",
      "33      inv_item_weight  0.000000e+00\n",
      "34        inv_item_unit  0.000000e+00\n",
      "35        inv_item_dose  0.000000e+00\n"
     ]
    }
   ],
   "source": [
    "import pandas as pd\n",
    "import numpy as np\n",
    "from sklearn.ensemble import RandomForestRegressor\n",
    "from sklearn.model_selection import train_test_split\n",
    "from sklearn.preprocessing import LabelEncoder\n",
    "\n",
    "df['yield_fact'] = pd.to_numeric(df['yield_fact'], errors='coerce')\n",
    "\n",
    "df = df.dropna(subset=['yield_fact'])\n",
    "\n",
    "numerical_features = df.select_dtypes(include=[np.number]).columns.tolist()\n",
    "\n",
    "categorical_features = df.select_dtypes(include=[object]).columns\n",
    "label_encoders = {}\n",
    "\n",
    "columns_to_exclude = ['start_date', 'end_date', 'inv_item_date']\n",
    "df = df.drop(columns=columns_to_exclude, errors='ignore')\n",
    "\n",
    "for col in categorical_features:\n",
    "    le = LabelEncoder()\n",
    "    df[col] = df[col].fillna('Unknown')\n",
    "    df[col] = le.fit_transform(df[col])\n",
    "    label_encoders[col] = le\n",
    "\n",
    "features = df.drop(columns=['yield_fact', 'index'])\n",
    "target = df['yield_fact']\n",
    "\n",
    "X_train, X_test, y_train, y_test = train_test_split(features, target, test_size=0.2, random_state=42)\n",
    "\n",
    "model = RandomForestRegressor(random_state=42, n_estimators=100)\n",
    "model.fit(X_train, y_train)\n",
    "\n",
    "feature_importances = pd.DataFrame({\n",
    "    'Feature': features.columns,\n",
    "    'Importance': model.feature_importances_\n",
    "}).sort_values(by='Importance', ascending=False)\n",
    "\n",
    "print(feature_importances)"
   ]
  },
  {
   "cell_type": "code",
   "execution_count": null,
   "id": "6a55e577-bc72-4db7-b0c4-ab0a324f1fc5",
   "metadata": {},
   "outputs": [],
   "source": []
  },
  {
   "cell_type": "code",
   "execution_count": null,
   "id": "e546c392-7304-46a0-bc50-8c280725449a",
   "metadata": {},
   "outputs": [],
   "source": []
  }
 ],
 "metadata": {
  "kernelspec": {
   "display_name": "Python 3 (ipykernel)",
   "language": "python",
   "name": "python3"
  },
  "language_info": {
   "codemirror_mode": {
    "name": "ipython",
    "version": 3
   },
   "file_extension": ".py",
   "mimetype": "text/x-python",
   "name": "python",
   "nbconvert_exporter": "python",
   "pygments_lexer": "ipython3",
   "version": "3.9.6"
  }
 },
 "nbformat": 4,
 "nbformat_minor": 5
}
