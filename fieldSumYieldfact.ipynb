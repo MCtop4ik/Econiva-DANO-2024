{
 "cells": [
  {
   "cell_type": "code",
   "execution_count": 10,
   "id": "67d38a90-74e1-4028-be52-992aae7ebe3f",
   "metadata": {},
   "outputs": [
    {
     "name": "stderr",
     "output_type": "stream",
     "text": [
      "/var/folders/pn/0bn7dksx05d8k5q8rpx3vxm80000gn/T/ipykernel_43874/2860790935.py:3: DtypeWarning: Columns (12) have mixed types. Specify dtype option on import or set low_memory=False.\n",
      "  df = pd.read_csv('merged-dataset.csv')\n"
     ]
    }
   ],
   "source": [
    "import pandas as pd\n",
    "\n",
    "df = pd.read_csv('merged-dataset.csv')"
   ]
  },
  {
   "cell_type": "code",
   "execution_count": 11,
   "id": "7f2bba4b-7ccf-44fb-9a75-c60a7d05bb1f",
   "metadata": {},
   "outputs": [
    {
     "data": {
      "text/plain": [
       "Index(['Unnamed: 0', 'season', 'field', 'work_type', 'work_subtype',\n",
       "       'start_date', 'end_date', 'completed_work_area', 'main_tech',\n",
       "       'add_tech', 'mech', 'proc_depth', 'prod_purpose', 'prod_weight',\n",
       "       'Unnamed: 13', 'Unnamed: 14', 'prod_dry_perc', 'prod_humid',\n",
       "       'prod_impur', 'yield_fact', 'work_id', 'region', 'land_type',\n",
       "       'fertility_score', 'crop', 'crop_predecessor', 'crop_yearold',\n",
       "       'field_area', 'hybrid', 'reproduction', 'seed_origin', 'technology',\n",
       "       'yield_plan', 'p2o5', 'k2o', 'humus', 'ph', 'inv_item_type',\n",
       "       'inv_item_name', 'inv_item_weight', 'inv_item_unit', 'inv_item_dose',\n",
       "       'inv_item_date'],\n",
       "      dtype='object')"
      ]
     },
     "execution_count": 11,
     "metadata": {},
     "output_type": "execute_result"
    }
   ],
   "source": [
    "df.columns"
   ]
  },
  {
   "cell_type": "code",
   "execution_count": 12,
   "id": "ca2266b4-fb8c-40ba-a211-1c76a210576b",
   "metadata": {},
   "outputs": [],
   "source": [
    "field_yield_fact = df.groupby('field')['yield_fact'].mean()"
   ]
  },
  {
   "cell_type": "code",
   "execution_count": 13,
   "id": "6a351b8b-cdfb-4555-9593-2406cee1ee43",
   "metadata": {},
   "outputs": [],
   "source": [
    "field_yield_fact.to_csv('field_avg_yield_fact.csv')"
   ]
  },
  {
   "cell_type": "code",
   "execution_count": 14,
   "id": "bf3928ea-693d-40be-85af-6ac4c6be4b95",
   "metadata": {},
   "outputs": [],
   "source": [
    "field_yield_plan = df.groupby('field')['yield_plan'].mean()"
   ]
  },
  {
   "cell_type": "code",
   "execution_count": 15,
   "id": "675b4f4a-69e0-4276-8743-8b0d91a45423",
   "metadata": {},
   "outputs": [],
   "source": [
    "field_yield_plan.to_csv('field_avg_yield_plan.csv')"
   ]
  },
  {
   "cell_type": "code",
   "execution_count": 17,
   "id": "0cfceddf-a9bb-4699-93d5-f794ec7d8da5",
   "metadata": {},
   "outputs": [],
   "source": [
    "filtered_df = df[(df['yield_fact'] > 0) & (df['yield_fact'] < 60)]\n",
    "field_yield_fact = filtered_df.groupby('field')['yield_fact'].mean()\n",
    "field_yield_fact.to_csv('field_avg_yield_fact_without_outliers.csv')"
   ]
  },
  {
   "cell_type": "code",
   "execution_count": null,
   "id": "be65297c-e57f-4da8-a539-89f36c73ad8c",
   "metadata": {},
   "outputs": [],
   "source": []
  }
 ],
 "metadata": {
  "kernelspec": {
   "display_name": "Python 3 (ipykernel)",
   "language": "python",
   "name": "python3"
  },
  "language_info": {
   "codemirror_mode": {
    "name": "ipython",
    "version": 3
   },
   "file_extension": ".py",
   "mimetype": "text/x-python",
   "name": "python",
   "nbconvert_exporter": "python",
   "pygments_lexer": "ipython3",
   "version": "3.9.6"
  }
 },
 "nbformat": 4,
 "nbformat_minor": 5
}
